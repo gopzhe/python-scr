{
 "cells": [
  {
   "cell_type": "code",
   "execution_count": 1,
   "metadata": {
    "ExecuteTime": {
     "end_time": "2020-10-16T08:54:32.967188Z",
     "start_time": "2020-10-16T08:54:32.677465Z"
    }
   },
   "outputs": [],
   "source": [
    "import requests\n",
    "import pprint"
   ]
  },
  {
   "cell_type": "code",
   "execution_count": null,
   "metadata": {},
   "outputs": [],
   "source": [
    "token_list = [\n",
    "                '73fe7f5b-aeee-45b8-aa52-9711576bf6ee',\n",
    "                'cc32ea76-e7f3-4b1d-b1fa-39020dcc22b5',\n",
    "                '2c2bd7f4-e8e3-4875-b334-854ddf0a686b',\n",
    "                '75bbdd5b-b31e-41b1-ba7b-30677a9caf48',\n",
    "                'c87dc454-2a0b-47db-8e2d-35af79dd554a',\n",
    "                'e65104b5-9b94-4173-aa36-835f3f8566ae',\n",
    "                '2adf0d5b-7dae-40dd-8e7d-2e4be9b2f93c',\n",
    "                'a3acd1c4-7ddc-4248-b1e9-0db98793f667'\n",
    "            ]"
   ]
  },
  {
   "cell_type": "code",
   "execution_count": 3,
   "metadata": {
    "ExecuteTime": {
     "end_time": "2020-10-16T08:55:15.628985Z",
     "start_time": "2020-10-16T08:55:15.617995Z"
    }
   },
   "outputs": [],
   "source": [
    "url = 'https://www.cheatslips.com/api/v1'\n",
    "token = 'a3acd1c4-7ddc-4248-b1e9-0db98793f667'\n",
    "headers = {\n",
    "    'User-Agent': 'Mozilla/5.0 (Windows NT 10.0; Win64; x64) AppleWebKit/537.36 (KHTML, like Gecko) Chrome/86.0.4240.75 Safari/537.36',\n",
    "    'X-API-TOKEN': token_list[0]\n",
    "}"
   ]
  },
  {
   "cell_type": "code",
   "execution_count": 4,
   "metadata": {
    "ExecuteTime": {
     "end_time": "2020-10-16T08:55:16.330830Z",
     "start_time": "2020-10-16T08:55:16.314847Z"
    }
   },
   "outputs": [],
   "source": [
    "def count():\n",
    "    res = requests.get(url+'/cheats/count',headers=headers)\n",
    "    print(res.text)"
   ]
  },
  {
   "cell_type": "code",
   "execution_count": 5,
   "metadata": {
    "ExecuteTime": {
     "end_time": "2020-10-16T08:55:16.937813Z",
     "start_time": "2020-10-16T08:55:16.924816Z"
    }
   },
   "outputs": [],
   "source": [
    "def find(name): \n",
    "    findurl = url + '/cheats/find/' + name\n",
    "    res = requests.get(findurl,headers=headers)\n",
    "    pprint.pprint(res.text)"
   ]
  },
  {
   "cell_type": "code",
   "execution_count": 12,
   "metadata": {
    "ExecuteTime": {
     "end_time": "2020-10-16T08:59:44.209913Z",
     "start_time": "2020-10-16T08:59:41.482791Z"
    }
   },
   "outputs": [
    {
     "name": "stdout",
     "output_type": "stream",
     "text": [
      "('{\"count\": 2, \"pagination\": {\"start\": 0, \"end\": 2, \"limited_to\": 10}, '\n",
      " '\"games\": [{\"name\": \"Hades\", \"slug\": \"hades\", \"count\": 3, \"cheats\": '\n",
      " '[{\"build\": \"a16cb7e952a7e911\", \"titleid\": \"0100535012974000\", \"credits\": '\n",
      " '\"xtatu\"}, {\"build\": \"A16CB7E952A7E911\", \"titleid\": \"0100535012974000\", '\n",
      " '\"credits\": \"GBA\"}, {\"build\": \"A16CB7E952A7E911\", \"titleid\": '\n",
      " '\"0100535012974000\", \"credits\": \"PAT\"}]}, {\"name\": \"Special Costume for '\n",
      " 'Hades\", \"slug\": \"special-costume-for-hades\", \"count\": 0, \"cheats\": []}]}\\n')\n"
     ]
    }
   ],
   "source": [
    "find('hades')"
   ]
  },
  {
   "cell_type": "code",
   "execution_count": 7,
   "metadata": {
    "ExecuteTime": {
     "end_time": "2020-10-16T08:55:18.587302Z",
     "start_time": "2020-10-16T08:55:18.573307Z"
    }
   },
   "outputs": [],
   "source": [
    "def get1(tid): \n",
    "    findurl = url + '/cheats/' + tid\n",
    "    res = requests.get(findurl,headers=headers)\n",
    "    pprint.pprint(res.text)"
   ]
  },
  {
   "cell_type": "code",
   "execution_count": 11,
   "metadata": {
    "ExecuteTime": {
     "end_time": "2020-10-16T08:57:51.290655Z",
     "start_time": "2020-10-16T08:57:50.143190Z"
    }
   },
   "outputs": [
    {
     "name": "stdout",
     "output_type": "stream",
     "text": [
      "('{\"slug\": \"hades\", \"name\": \"Hades\", \"image\": '\n",
      " '\"//cdn01.nintendo-europe.com/media/images/11_square_images/games_18/nintendo_switch_download_software/SQ_NSwitchDS_Hades_image500w.png\", '\n",
      " '\"banner\": '\n",
      " '\"https://cdn01.nintendo-europe.com/media/images/10_share_images/games_15/nintendo_switch_download_software_1/H2x1_NSwitchDS_Hades_banner_image_wishlist_460w.png\", '\n",
      " '\"count\": 3, \"titleid\": \"0100535012974000\", \"cheats\": [{\"description\": '\n",
      " '\"ver:1.0.36054\\\\r\\\\nwon\\'t work all enemies some{hitanywhere]\\\\r\\\\n\\\\r\\\\n\", '\n",
      " '\"buildid\": \"a16cb7e952a7e911\", \"content\": \"Quota exceeded for today !\", '\n",
      " '\"credits\": \"xtatu\", \"id\": 2482}, {\"description\": \"Last version\", \"buildid\": '\n",
      " '\"A16CB7E952A7E911\", \"content\": \"Quota exceeded for today !\", \"credits\": '\n",
      " '\"GBA\", \"id\": 2486}, {\"description\": \"\", \"buildid\": \"A16CB7E952A7E911\", '\n",
      " '\"content\": \"Quota exceeded for today !\", \"credits\": \"PAT\", \"id\": 2487}]}\\n')\n"
     ]
    }
   ],
   "source": [
    "get1('0100535012974000')"
   ]
  },
  {
   "cell_type": "code",
   "execution_count": 9,
   "metadata": {
    "ExecuteTime": {
     "end_time": "2020-10-16T08:56:38.796039Z",
     "start_time": "2020-10-16T08:56:38.785045Z"
    }
   },
   "outputs": [],
   "source": [
    "def get2(tid,bid): \n",
    "    findurl = url + '/cheats/' + tid + '/' + bid\n",
    "    res = requests.get(findurl,headers=headers)\n",
    "    pprint.pprint(res.text)"
   ]
  },
  {
   "cell_type": "code",
   "execution_count": 10,
   "metadata": {
    "ExecuteTime": {
     "end_time": "2020-10-16T08:57:14.541713Z",
     "start_time": "2020-10-16T08:57:13.033245Z"
    }
   },
   "outputs": [
    {
     "name": "stdout",
     "output_type": "stream",
     "text": [
      "('{\"slug\": \"hades\", \"name\": \"Hades\", \"image\": '\n",
      " '\"//cdn01.nintendo-europe.com/media/images/11_square_images/games_18/nintendo_switch_download_software/SQ_NSwitchDS_Hades_image500w.png\", '\n",
      " '\"banner\": '\n",
      " '\"https://cdn01.nintendo-europe.com/media/images/10_share_images/games_15/nintendo_switch_download_software_1/H2x1_NSwitchDS_Hades_banner_image_wishlist_460w.png\", '\n",
      " '\"count\": 3, \"titleid\": \"0100535012974000\", \"cheats\": [{\"description\": '\n",
      " '\"ver:1.0.36054\\\\r\\\\nwon\\'t work all enemies some{hitanywhere]\\\\r\\\\n\\\\r\\\\n\", '\n",
      " '\"buildid\": \"a16cb7e952a7e911\", \"content\": \"Quota exceeded for today !\", '\n",
      " '\"credits\": \"xtatu\", \"id\": 2482}, {\"description\": \"Last version\", \"buildid\": '\n",
      " '\"A16CB7E952A7E911\", \"content\": \"Quota exceeded for today !\", \"credits\": '\n",
      " '\"GBA\", \"id\": 2486}, {\"description\": \"\", \"buildid\": \"A16CB7E952A7E911\", '\n",
      " '\"content\": \"Quota exceeded for today !\", \"credits\": \"PAT\", \"id\": 2487}]}\\n')\n"
     ]
    }
   ],
   "source": [
    "get2('0100535012974000','a16cb7e952a7e911')"
   ]
  },
  {
   "cell_type": "code",
   "execution_count": null,
   "metadata": {},
   "outputs": [],
   "source": []
  }
 ],
 "metadata": {
  "kernelspec": {
   "display_name": "Python 3",
   "language": "python",
   "name": "python3"
  },
  "language_info": {
   "codemirror_mode": {
    "name": "ipython",
    "version": 3
   },
   "file_extension": ".py",
   "mimetype": "text/x-python",
   "name": "python",
   "nbconvert_exporter": "python",
   "pygments_lexer": "ipython3",
   "version": "3.7.6"
  },
  "toc": {
   "base_numbering": 1,
   "nav_menu": {},
   "number_sections": true,
   "sideBar": true,
   "skip_h1_title": false,
   "title_cell": "Table of Contents",
   "title_sidebar": "Contents",
   "toc_cell": false,
   "toc_position": {},
   "toc_section_display": true,
   "toc_window_display": false
  },
  "varInspector": {
   "cols": {
    "lenName": 16,
    "lenType": 16,
    "lenVar": 40
   },
   "kernels_config": {
    "python": {
     "delete_cmd_postfix": "",
     "delete_cmd_prefix": "del ",
     "library": "var_list.py",
     "varRefreshCmd": "print(var_dic_list())"
    },
    "r": {
     "delete_cmd_postfix": ") ",
     "delete_cmd_prefix": "rm(",
     "library": "var_list.r",
     "varRefreshCmd": "cat(var_dic_list()) "
    }
   },
   "types_to_exclude": [
    "module",
    "function",
    "builtin_function_or_method",
    "instance",
    "_Feature"
   ],
   "window_display": false
  }
 },
 "nbformat": 4,
 "nbformat_minor": 4
}